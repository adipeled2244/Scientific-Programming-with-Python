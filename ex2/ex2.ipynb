{
  "nbformat": 4,
  "nbformat_minor": 0,
  "metadata": {
    "colab": {
      "name": "ex2 - homework",
      "provenance": [],
      "collapsed_sections": []
    },
    "kernelspec": {
      "name": "python3",
      "display_name": "Python 3"
    },
    "language_info": {
      "name": "python"
    }
  },
  "cells": [
    {
      "cell_type": "markdown",
      "source": [
        "Adi Peled 204818678 Noy Shabo 205983240"
      ],
      "metadata": {
        "id": "pdGzQ1oIjPHr"
      }
    },
    {
      "cell_type": "code",
      "execution_count": 1,
      "metadata": {
        "id": "ngV8n1pdkV6X"
      },
      "outputs": [],
      "source": [
        "import pandas as pd\n",
        "import numpy as np"
      ]
    },
    {
      "cell_type": "markdown",
      "source": [
        "### **TASK 1**"
      ],
      "metadata": {
        "id": "781xxxRS2jLn"
      }
    },
    {
      "cell_type": "markdown",
      "source": [
        "**1. Load the data into a Pandas Dataframe.**\n"
      ],
      "metadata": {
        "id": "qyk-Rrqskqbp"
      }
    },
    {
      "cell_type": "code",
      "source": [
        "df = pd.read_csv('mobile_price_1.csv')\n",
        "print(df)"
      ],
      "metadata": {
        "colab": {
          "base_uri": "https://localhost:8080/"
        },
        "id": "B8uLPixCki_t",
        "outputId": "39c50c52-227b-4fd3-e5e1-937459670dd1"
      },
      "execution_count": 5,
      "outputs": [
        {
          "output_type": "stream",
          "name": "stdout",
          "text": [
            "        id  battery_power  m_dep  mobile_wt  ...  memory  screen  wifi    price\n",
            "0        0            842    0.6        188  ...    7568     LCD     g   751.64\n",
            "1        1           1021    0.7        136  ...   53759   Touch  none   885.17\n",
            "2        2            563    0.9        145  ...   41140   Touch  none  1067.78\n",
            "3        3            615    0.8        131  ...   10558     LCD  none   819.22\n",
            "4        4           1821    0.6        141  ...   44436   Touch  none  1023.13\n",
            "...    ...            ...    ...        ...  ...     ...     ...   ...      ...\n",
            "1995  1995            794    0.8        106  ...    2650   Touch  none   729.34\n",
            "1996  1996           1965    0.2        187  ...   39573   Touch     n  1157.94\n",
            "1997  1997           1911    0.7        108  ...   36706   Touch  none  1351.51\n",
            "1998  1998           1512    0.1        145  ...   46218   Touch     g   846.52\n",
            "1999  1999            510    0.9        168  ...   45731   Touch     a  1118.35\n",
            "\n",
            "[2000 rows x 21 columns]\n"
          ]
        }
      ]
    },
    {
      "cell_type": "markdown",
      "source": [
        "**2. Which of the categorical features are nominal and which are ordinal?**\n",
        "\n",
        "answer:\n",
        "\n",
        "nominal:\n",
        "bluetooth,\n",
        "screen\n",
        "\n",
        "\n",
        "ordinal:\n",
        "gen,\n",
        "cores,\n",
        "speed,\n",
        "sim,\n",
        "wifi\n",
        "\n",
        "```\n",
        "\n",
        "```\n",
        "\n"
      ],
      "metadata": {
        "id": "Ak_D5s8tlA0D"
      }
    },
    {
      "cell_type": "markdown",
      "source": [
        "**3. Add a column that holds the total screen resolution for each device. Name it resolution.**"
      ],
      "metadata": {
        "id": "3YJ4DRrEoj01"
      }
    },
    {
      "cell_type": "code",
      "source": [
        "df['resolution']= df['px_height']*df['px_width']\n",
        "print(df)"
      ],
      "metadata": {
        "colab": {
          "base_uri": "https://localhost:8080/"
        },
        "id": "gRBJdPfgooUB",
        "outputId": "e4c98be6-59a2-4410-8828-50c0b831f61c"
      },
      "execution_count": 6,
      "outputs": [
        {
          "output_type": "stream",
          "name": "stdout",
          "text": [
            "        id  battery_power  m_dep  mobile_wt  ...  screen  wifi    price  resolution\n",
            "0        0            842    0.6        188  ...     LCD     g   751.64       15120\n",
            "1        1           1021    0.7        136  ...   Touch  none   885.17     1799140\n",
            "2        2            563    0.9        145  ...   Touch  none  1067.78     2167308\n",
            "3        3            615    0.8        131  ...     LCD  none   819.22     2171776\n",
            "4        4           1821    0.6        141  ...   Touch  none  1023.13     1464096\n",
            "...    ...            ...    ...        ...  ...     ...   ...      ...         ...\n",
            "1995  1995            794    0.8        106  ...   Touch  none   729.34     2309580\n",
            "1996  1996           1965    0.2        187  ...   Touch     n  1157.94     1797975\n",
            "1997  1997           1911    0.7        108  ...   Touch  none  1351.51     1416576\n",
            "1998  1998           1512    0.1        145  ...   Touch     g   846.52      225120\n",
            "1999  1999            510    0.9        168  ...   Touch     a  1118.35      364182\n",
            "\n",
            "[2000 rows x 22 columns]\n"
          ]
        }
      ]
    },
    {
      "cell_type": "markdown",
      "source": [
        "**4. Add a column that holds the DPI (dots per inch) of the screen width and name it DPI_w.**"
      ],
      "metadata": {
        "id": "Fg_MWq-AqnLJ"
      }
    },
    {
      "cell_type": "code",
      "source": [
        "df['DPI_w'] = np.where(df['sc_w'] == 0, np.nan, df['px_width']/(df['sc_w']*0.39370079))  # 1cm = 0.39370079 inches \n",
        "print(df)"
      ],
      "metadata": {
        "colab": {
          "base_uri": "https://localhost:8080/"
        },
        "id": "UtibgA14qpPC",
        "outputId": "013583c7-59ce-47c4-948c-c2eb9b28a594"
      },
      "execution_count": 7,
      "outputs": [
        {
          "output_type": "stream",
          "name": "stdout",
          "text": [
            "        id  battery_power  m_dep  ...    price  resolution        DPI_w\n",
            "0        0            842    0.6  ...   751.64       15120   274.319998\n",
            "1        1           1021    0.7  ...   885.17     1799140  1683.173322\n",
            "2        2            563    0.9  ...  1067.78     2167308  2179.319986\n",
            "3        3            615    0.8  ...   819.22     2171776   567.054996\n",
            "4        4           1821    0.6  ...  1023.13     1464096  1539.239990\n",
            "...    ...            ...    ...  ...      ...         ...          ...\n",
            "1995  1995            794    0.8  ...   729.34     2309580  1200.149992\n",
            "1996  1996           1965    0.2  ...  1157.94     1797975   499.109997\n",
            "1997  1997           1911    0.7  ...  1351.51     1416576  4145.279973\n",
            "1998  1998           1512    0.1  ...   846.52      225120   170.179999\n",
            "1999  1999            510    0.9  ...  1118.35      364182   478.789997\n",
            "\n",
            "[2000 rows x 23 columns]\n"
          ]
        }
      ]
    },
    {
      "cell_type": "markdown",
      "source": [
        "**5. Add a column that holds the ratio battery_power/talk_time and name it call_ratio.**"
      ],
      "metadata": {
        "id": "qd0R-xIxtf0f"
      }
    },
    {
      "cell_type": "code",
      "source": [
        "df['call_ratio']=np.where(df['talk_time'] == 0, np.nan,  df['battery_power']/df['talk_time'])\n",
        "print(df)"
      ],
      "metadata": {
        "colab": {
          "base_uri": "https://localhost:8080/"
        },
        "id": "xEvSgWJOtlJ4",
        "outputId": "60dff703-a098-4617-e745-1603f2f48cdd"
      },
      "execution_count": 8,
      "outputs": [
        {
          "output_type": "stream",
          "name": "stdout",
          "text": [
            "        id  battery_power  m_dep  ...  resolution        DPI_w  call_ratio\n",
            "0        0            842    0.6  ...       15120   274.319998         NaN\n",
            "1        1           1021    0.7  ...     1799140  1683.173322  145.857143\n",
            "2        2            563    0.9  ...     2167308  2179.319986   62.555556\n",
            "3        3            615    0.8  ...     2171776   567.054996   55.909091\n",
            "4        4           1821    0.6  ...     1464096  1539.239990  121.400000\n",
            "...    ...            ...    ...  ...         ...          ...         ...\n",
            "1995  1995            794    0.8  ...     2309580  1200.149992   41.789474\n",
            "1996  1996           1965    0.2  ...     1797975   499.109997  122.812500\n",
            "1997  1997           1911    0.7  ...     1416576  4145.279973  382.200000\n",
            "1998  1998           1512    0.1  ...      225120   170.179999   79.578947\n",
            "1999  1999            510    0.9  ...      364182   478.789997  255.000000\n",
            "\n",
            "[2000 rows x 24 columns]\n"
          ]
        }
      ]
    },
    {
      "cell_type": "markdown",
      "source": [
        "**6. Change the memory column to hold the memory in GB instead of MB.**"
      ],
      "metadata": {
        "id": "JV5oJPoEuG9_"
      }
    },
    {
      "cell_type": "code",
      "source": [
        "df['memory']= df['memory']/1024\n",
        "print(df['memory'])"
      ],
      "metadata": {
        "colab": {
          "base_uri": "https://localhost:8080/"
        },
        "id": "seSsDk0juIoK",
        "outputId": "c84969ed-458f-47d7-f789-606b191350bc"
      },
      "execution_count": 9,
      "outputs": [
        {
          "output_type": "stream",
          "name": "stdout",
          "text": [
            "0        7.390625\n",
            "1       52.499023\n",
            "2       40.175781\n",
            "3       10.310547\n",
            "4       43.394531\n",
            "          ...    \n",
            "1995     2.587891\n",
            "1996    38.645508\n",
            "1997    35.845703\n",
            "1998    45.134766\n",
            "1999    44.659180\n",
            "Name: memory, Length: 2000, dtype: float64\n"
          ]
        }
      ]
    },
    {
      "cell_type": "markdown",
      "source": [
        "**7. Include the output of the `describe()` function of the dataframe.**"
      ],
      "metadata": {
        "id": "e5bVju9IvhHW"
      }
    },
    {
      "cell_type": "code",
      "source": [
        "df.describe()"
      ],
      "metadata": {
        "colab": {
          "base_uri": "https://localhost:8080/",
          "height": 364
        },
        "id": "oeCQGIHYviJC",
        "outputId": "b10490dd-69ab-42f3-f919-40428134ed7b"
      },
      "execution_count": 10,
      "outputs": [
        {
          "output_type": "execute_result",
          "data": {
            "text/html": [
              "\n",
              "  <div id=\"df-dd5c6ef6-2af5-4e37-9ce4-9c7f1517a5ec\">\n",
              "    <div class=\"colab-df-container\">\n",
              "      <div>\n",
              "<style scoped>\n",
              "    .dataframe tbody tr th:only-of-type {\n",
              "        vertical-align: middle;\n",
              "    }\n",
              "\n",
              "    .dataframe tbody tr th {\n",
              "        vertical-align: top;\n",
              "    }\n",
              "\n",
              "    .dataframe thead th {\n",
              "        text-align: right;\n",
              "    }\n",
              "</style>\n",
              "<table border=\"1\" class=\"dataframe\">\n",
              "  <thead>\n",
              "    <tr style=\"text-align: right;\">\n",
              "      <th></th>\n",
              "      <th>id</th>\n",
              "      <th>battery_power</th>\n",
              "      <th>m_dep</th>\n",
              "      <th>mobile_wt</th>\n",
              "      <th>px_height</th>\n",
              "      <th>px_width</th>\n",
              "      <th>ram</th>\n",
              "      <th>sc_h</th>\n",
              "      <th>sc_w</th>\n",
              "      <th>talk_time</th>\n",
              "      <th>gen</th>\n",
              "      <th>f_camera</th>\n",
              "      <th>camera</th>\n",
              "      <th>memory</th>\n",
              "      <th>price</th>\n",
              "      <th>resolution</th>\n",
              "      <th>DPI_w</th>\n",
              "      <th>call_ratio</th>\n",
              "    </tr>\n",
              "  </thead>\n",
              "  <tbody>\n",
              "    <tr>\n",
              "      <th>count</th>\n",
              "      <td>2000.000000</td>\n",
              "      <td>2000.000000</td>\n",
              "      <td>2000.000000</td>\n",
              "      <td>2000.000000</td>\n",
              "      <td>2000.000000</td>\n",
              "      <td>2000.000000</td>\n",
              "      <td>2000.000000</td>\n",
              "      <td>2000.000000</td>\n",
              "      <td>2000.000000</td>\n",
              "      <td>2000.000000</td>\n",
              "      <td>2000.000000</td>\n",
              "      <td>1526.000000</td>\n",
              "      <td>1899.000000</td>\n",
              "      <td>2000.000000</td>\n",
              "      <td>2000.00000</td>\n",
              "      <td>2.000000e+03</td>\n",
              "      <td>1820.000000</td>\n",
              "      <td>1998.000000</td>\n",
              "    </tr>\n",
              "    <tr>\n",
              "      <th>mean</th>\n",
              "      <td>999.500000</td>\n",
              "      <td>1238.518500</td>\n",
              "      <td>0.501750</td>\n",
              "      <td>140.249000</td>\n",
              "      <td>645.108000</td>\n",
              "      <td>1251.515500</td>\n",
              "      <td>2124.213000</td>\n",
              "      <td>12.306500</td>\n",
              "      <td>5.767000</td>\n",
              "      <td>10.999000</td>\n",
              "      <td>3.283000</td>\n",
              "      <td>5.648100</td>\n",
              "      <td>10.443918</td>\n",
              "      <td>31.783456</td>\n",
              "      <td>862.02435</td>\n",
              "      <td>9.052601e+05</td>\n",
              "      <td>931.176477</td>\n",
              "      <td>166.621692</td>\n",
              "    </tr>\n",
              "    <tr>\n",
              "      <th>std</th>\n",
              "      <td>577.494589</td>\n",
              "      <td>439.418206</td>\n",
              "      <td>0.288416</td>\n",
              "      <td>35.399655</td>\n",
              "      <td>443.780811</td>\n",
              "      <td>432.199447</td>\n",
              "      <td>1084.732044</td>\n",
              "      <td>4.213245</td>\n",
              "      <td>4.356398</td>\n",
              "      <td>5.470463</td>\n",
              "      <td>0.824773</td>\n",
              "      <td>4.140169</td>\n",
              "      <td>5.763826</td>\n",
              "      <td>17.735803</td>\n",
              "      <td>230.26348</td>\n",
              "      <td>8.297625e+05</td>\n",
              "      <td>992.678406</td>\n",
              "      <td>156.639198</td>\n",
              "    </tr>\n",
              "    <tr>\n",
              "      <th>min</th>\n",
              "      <td>0.000000</td>\n",
              "      <td>501.000000</td>\n",
              "      <td>0.100000</td>\n",
              "      <td>80.000000</td>\n",
              "      <td>0.000000</td>\n",
              "      <td>500.000000</td>\n",
              "      <td>256.000000</td>\n",
              "      <td>5.000000</td>\n",
              "      <td>0.000000</td>\n",
              "      <td>0.000000</td>\n",
              "      <td>2.000000</td>\n",
              "      <td>1.000000</td>\n",
              "      <td>1.000000</td>\n",
              "      <td>1.908203</td>\n",
              "      <td>307.11000</td>\n",
              "      <td>0.000000e+00</td>\n",
              "      <td>81.279999</td>\n",
              "      <td>25.100000</td>\n",
              "    </tr>\n",
              "    <tr>\n",
              "      <th>25%</th>\n",
              "      <td>499.750000</td>\n",
              "      <td>851.750000</td>\n",
              "      <td>0.200000</td>\n",
              "      <td>109.000000</td>\n",
              "      <td>282.750000</td>\n",
              "      <td>874.750000</td>\n",
              "      <td>1207.500000</td>\n",
              "      <td>9.000000</td>\n",
              "      <td>2.000000</td>\n",
              "      <td>6.000000</td>\n",
              "      <td>3.000000</td>\n",
              "      <td>2.000000</td>\n",
              "      <td>6.000000</td>\n",
              "      <td>16.036133</td>\n",
              "      <td>698.46750</td>\n",
              "      <td>2.632005e+05</td>\n",
              "      <td>319.531998</td>\n",
              "      <td>75.750000</td>\n",
              "    </tr>\n",
              "    <tr>\n",
              "      <th>50%</th>\n",
              "      <td>999.500000</td>\n",
              "      <td>1226.000000</td>\n",
              "      <td>0.500000</td>\n",
              "      <td>141.000000</td>\n",
              "      <td>564.000000</td>\n",
              "      <td>1247.000000</td>\n",
              "      <td>2146.500000</td>\n",
              "      <td>12.000000</td>\n",
              "      <td>5.000000</td>\n",
              "      <td>11.000000</td>\n",
              "      <td>4.000000</td>\n",
              "      <td>5.000000</td>\n",
              "      <td>10.000000</td>\n",
              "      <td>31.545898</td>\n",
              "      <td>837.63000</td>\n",
              "      <td>6.013590e+05</td>\n",
              "      <td>536.857219</td>\n",
              "      <td>111.369318</td>\n",
              "    </tr>\n",
              "    <tr>\n",
              "      <th>75%</th>\n",
              "      <td>1499.250000</td>\n",
              "      <td>1615.250000</td>\n",
              "      <td>0.800000</td>\n",
              "      <td>170.000000</td>\n",
              "      <td>947.250000</td>\n",
              "      <td>1633.000000</td>\n",
              "      <td>3064.500000</td>\n",
              "      <td>16.000000</td>\n",
              "      <td>9.000000</td>\n",
              "      <td>16.000000</td>\n",
              "      <td>4.000000</td>\n",
              "      <td>8.000000</td>\n",
              "      <td>15.000000</td>\n",
              "      <td>47.207275</td>\n",
              "      <td>1006.71250</td>\n",
              "      <td>1.359027e+06</td>\n",
              "      <td>1120.563326</td>\n",
              "      <td>186.068750</td>\n",
              "    </tr>\n",
              "    <tr>\n",
              "      <th>max</th>\n",
              "      <td>1999.000000</td>\n",
              "      <td>1998.000000</td>\n",
              "      <td>1.000000</td>\n",
              "      <td>200.000000</td>\n",
              "      <td>1960.000000</td>\n",
              "      <td>1998.000000</td>\n",
              "      <td>3998.000000</td>\n",
              "      <td>19.000000</td>\n",
              "      <td>18.000000</td>\n",
              "      <td>20.000000</td>\n",
              "      <td>4.000000</td>\n",
              "      <td>19.000000</td>\n",
              "      <td>20.000000</td>\n",
              "      <td>63.400391</td>\n",
              "      <td>1728.97000</td>\n",
              "      <td>3.886306e+06</td>\n",
              "      <td>5057.139967</td>\n",
              "      <td>989.500000</td>\n",
              "    </tr>\n",
              "  </tbody>\n",
              "</table>\n",
              "</div>\n",
              "      <button class=\"colab-df-convert\" onclick=\"convertToInteractive('df-dd5c6ef6-2af5-4e37-9ce4-9c7f1517a5ec')\"\n",
              "              title=\"Convert this dataframe to an interactive table.\"\n",
              "              style=\"display:none;\">\n",
              "        \n",
              "  <svg xmlns=\"http://www.w3.org/2000/svg\" height=\"24px\"viewBox=\"0 0 24 24\"\n",
              "       width=\"24px\">\n",
              "    <path d=\"M0 0h24v24H0V0z\" fill=\"none\"/>\n",
              "    <path d=\"M18.56 5.44l.94 2.06.94-2.06 2.06-.94-2.06-.94-.94-2.06-.94 2.06-2.06.94zm-11 1L8.5 8.5l.94-2.06 2.06-.94-2.06-.94L8.5 2.5l-.94 2.06-2.06.94zm10 10l.94 2.06.94-2.06 2.06-.94-2.06-.94-.94-2.06-.94 2.06-2.06.94z\"/><path d=\"M17.41 7.96l-1.37-1.37c-.4-.4-.92-.59-1.43-.59-.52 0-1.04.2-1.43.59L10.3 9.45l-7.72 7.72c-.78.78-.78 2.05 0 2.83L4 21.41c.39.39.9.59 1.41.59.51 0 1.02-.2 1.41-.59l7.78-7.78 2.81-2.81c.8-.78.8-2.07 0-2.86zM5.41 20L4 18.59l7.72-7.72 1.47 1.35L5.41 20z\"/>\n",
              "  </svg>\n",
              "      </button>\n",
              "      \n",
              "  <style>\n",
              "    .colab-df-container {\n",
              "      display:flex;\n",
              "      flex-wrap:wrap;\n",
              "      gap: 12px;\n",
              "    }\n",
              "\n",
              "    .colab-df-convert {\n",
              "      background-color: #E8F0FE;\n",
              "      border: none;\n",
              "      border-radius: 50%;\n",
              "      cursor: pointer;\n",
              "      display: none;\n",
              "      fill: #1967D2;\n",
              "      height: 32px;\n",
              "      padding: 0 0 0 0;\n",
              "      width: 32px;\n",
              "    }\n",
              "\n",
              "    .colab-df-convert:hover {\n",
              "      background-color: #E2EBFA;\n",
              "      box-shadow: 0px 1px 2px rgba(60, 64, 67, 0.3), 0px 1px 3px 1px rgba(60, 64, 67, 0.15);\n",
              "      fill: #174EA6;\n",
              "    }\n",
              "\n",
              "    [theme=dark] .colab-df-convert {\n",
              "      background-color: #3B4455;\n",
              "      fill: #D2E3FC;\n",
              "    }\n",
              "\n",
              "    [theme=dark] .colab-df-convert:hover {\n",
              "      background-color: #434B5C;\n",
              "      box-shadow: 0px 1px 3px 1px rgba(0, 0, 0, 0.15);\n",
              "      filter: drop-shadow(0px 1px 2px rgba(0, 0, 0, 0.3));\n",
              "      fill: #FFFFFF;\n",
              "    }\n",
              "  </style>\n",
              "\n",
              "      <script>\n",
              "        const buttonEl =\n",
              "          document.querySelector('#df-dd5c6ef6-2af5-4e37-9ce4-9c7f1517a5ec button.colab-df-convert');\n",
              "        buttonEl.style.display =\n",
              "          google.colab.kernel.accessAllowed ? 'block' : 'none';\n",
              "\n",
              "        async function convertToInteractive(key) {\n",
              "          const element = document.querySelector('#df-dd5c6ef6-2af5-4e37-9ce4-9c7f1517a5ec');\n",
              "          const dataTable =\n",
              "            await google.colab.kernel.invokeFunction('convertToInteractive',\n",
              "                                                     [key], {});\n",
              "          if (!dataTable) return;\n",
              "\n",
              "          const docLinkHtml = 'Like what you see? Visit the ' +\n",
              "            '<a target=\"_blank\" href=https://colab.research.google.com/notebooks/data_table.ipynb>data table notebook</a>'\n",
              "            + ' to learn more about interactive tables.';\n",
              "          element.innerHTML = '';\n",
              "          dataTable['output_type'] = 'display_data';\n",
              "          await google.colab.output.renderOutput(dataTable, element);\n",
              "          const docLink = document.createElement('div');\n",
              "          docLink.innerHTML = docLinkHtml;\n",
              "          element.appendChild(docLink);\n",
              "        }\n",
              "      </script>\n",
              "    </div>\n",
              "  </div>\n",
              "  "
            ],
            "text/plain": [
              "                id  battery_power  ...        DPI_w   call_ratio\n",
              "count  2000.000000    2000.000000  ...  1820.000000  1998.000000\n",
              "mean    999.500000    1238.518500  ...   931.176477   166.621692\n",
              "std     577.494589     439.418206  ...   992.678406   156.639198\n",
              "min       0.000000     501.000000  ...    81.279999    25.100000\n",
              "25%     499.750000     851.750000  ...   319.531998    75.750000\n",
              "50%     999.500000    1226.000000  ...   536.857219   111.369318\n",
              "75%    1499.250000    1615.250000  ...  1120.563326   186.068750\n",
              "max    1999.000000    1998.000000  ...  5057.139967   989.500000\n",
              "\n",
              "[8 rows x 18 columns]"
            ]
          },
          "metadata": {},
          "execution_count": 10
        }
      ]
    },
    {
      "cell_type": "markdown",
      "source": [
        "**8. Convert the following features into categorical series in the Dataframe: speed,screen,cores**"
      ],
      "metadata": {
        "id": "TUDyXggNxmpi"
      }
    },
    {
      "cell_type": "code",
      "source": [
        "# speed\n",
        "\n",
        "sorted_speed = ['low', 'medium', 'high']\n",
        "df['speed'] = pd.Categorical(df['speed'], ordered=True, categories=sorted_speed)\n",
        "\n",
        "\n",
        "print(df['speed'])\n"
      ],
      "metadata": {
        "colab": {
          "base_uri": "https://localhost:8080/"
        },
        "id": "blBEl5x-xqZT",
        "outputId": "94afd79c-d413-4bc0-e98c-5a44053144d3"
      },
      "execution_count": 11,
      "outputs": [
        {
          "output_type": "stream",
          "name": "stdout",
          "text": [
            "0       medium\n",
            "1          low\n",
            "2          low\n",
            "3         high\n",
            "4       medium\n",
            "         ...  \n",
            "1995       low\n",
            "1996      high\n",
            "1997       low\n",
            "1998       low\n",
            "1999    medium\n",
            "Name: speed, Length: 2000, dtype: category\n",
            "Categories (3, object): ['low' < 'medium' < 'high']\n"
          ]
        }
      ]
    },
    {
      "cell_type": "code",
      "source": [
        "# screen\n",
        "\n",
        "types_of_screens = ['LCD', 'Touch']\n",
        "df['screen'] = pd.Categorical(df['screen'], ordered=False, categories=types_of_screens)\n",
        "\n",
        "\n",
        "print(df['screen'])\n"
      ],
      "metadata": {
        "colab": {
          "base_uri": "https://localhost:8080/"
        },
        "id": "YfWHABT3zBUd",
        "outputId": "bd835d65-36cd-4fe1-8ecb-f8ed929554a2"
      },
      "execution_count": 12,
      "outputs": [
        {
          "output_type": "stream",
          "name": "stdout",
          "text": [
            "0         LCD\n",
            "1       Touch\n",
            "2       Touch\n",
            "3         LCD\n",
            "4       Touch\n",
            "        ...  \n",
            "1995    Touch\n",
            "1996    Touch\n",
            "1997    Touch\n",
            "1998    Touch\n",
            "1999    Touch\n",
            "Name: screen, Length: 2000, dtype: category\n",
            "Categories (2, object): ['LCD', 'Touch']\n"
          ]
        }
      ]
    },
    {
      "cell_type": "code",
      "source": [
        "# cores\n",
        "\n",
        "sorted_cores = ['Single', 'dual','triple','quad','penta','hexa','hepta','octa']\n",
        "df['cores'] = pd.Categorical(df['cores'], ordered=True, categories=sorted_cores)\n",
        "\n",
        "\n",
        "print(df['cores'])"
      ],
      "metadata": {
        "colab": {
          "base_uri": "https://localhost:8080/"
        },
        "id": "C8P_EeZOzuqp",
        "outputId": "f60b7c59-e247-4804-b4fb-89f257a91d04"
      },
      "execution_count": 13,
      "outputs": [
        {
          "output_type": "stream",
          "name": "stdout",
          "text": [
            "0         dual\n",
            "1       triple\n",
            "2        penta\n",
            "3         hexa\n",
            "4         dual\n",
            "         ...  \n",
            "1995      hexa\n",
            "1996      quad\n",
            "1997      octa\n",
            "1998     penta\n",
            "1999      hexa\n",
            "Name: cores, Length: 2000, dtype: category\n",
            "Categories (8, object): ['Single' < 'dual' < 'triple' < 'quad' < 'penta' < 'hexa' < 'hepta' < 'octa']\n"
          ]
        }
      ]
    },
    {
      "cell_type": "markdown",
      "source": [
        "### **TASK 2**"
      ],
      "metadata": {
        "id": "h7d8OHRQ2RsG"
      }
    },
    {
      "cell_type": "markdown",
      "source": [
        "1. How many phones do not have a camera at all (front or back)?"
      ],
      "metadata": {
        "id": "rjaVaXoB2QB5"
      }
    },
    {
      "cell_type": "code",
      "source": [
        "df['not_camera_at_all']= df['f_camera'].isnull() & df['camera'].isnull() \n",
        "df['not_camera_at_all'].value_counts()\n"
      ],
      "metadata": {
        "colab": {
          "base_uri": "https://localhost:8080/"
        },
        "id": "S4wjdO5t2Q1u",
        "outputId": "464bd5a3-279e-4268-de45-085b7817d6b3"
      },
      "execution_count": 21,
      "outputs": [
        {
          "output_type": "execute_result",
          "data": {
            "text/plain": [
              "False    1899\n",
              "True      101\n",
              "Name: not_camera_at_all, dtype: int64"
            ]
          },
          "metadata": {},
          "execution_count": 21
        }
      ]
    },
    {
      "cell_type": "code",
      "source": [
        "df=df.drop(['not_camera_at_all'],axis=1)\n"
      ],
      "metadata": {
        "id": "NIUatc0UF8qC"
      },
      "execution_count": 22,
      "outputs": []
    },
    {
      "cell_type": "markdown",
      "source": [
        "Answer=101 phones"
      ],
      "metadata": {
        "id": "R2TjMOoFF1D1"
      }
    },
    {
      "cell_type": "markdown",
      "source": [
        "**2. What is the average battery power for single-sim phones that have a camera or front camera with a higher resolution than 12 megapixels?**"
      ],
      "metadata": {
        "id": "6muMYhMgF_-a"
      }
    },
    {
      "cell_type": "code",
      "source": [
        "filter= ((df['sim'] == 'Single') & ((df['camera'] >12) | (df['f_camera'] >12)  ))\n",
        "only_true_rows=df[filter]\n",
        "print(only_true_rows['battery_power'].mean())"
      ],
      "metadata": {
        "colab": {
          "base_uri": "https://localhost:8080/"
        },
        "id": "7v7OtUnQHsg3",
        "outputId": "a47e275b-bc25-4a61-8bb9-c8f09937ec06"
      },
      "execution_count": 23,
      "outputs": [
        {
          "output_type": "stream",
          "name": "stdout",
          "text": [
            "1266.741935483871\n"
          ]
        }
      ]
    },
    {
      "cell_type": "markdown",
      "source": [
        "Answer: mean= 1266.741935483871"
      ],
      "metadata": {
        "id": "0hrSchexQrB9"
      }
    },
    {
      "cell_type": "markdown",
      "source": [
        "**3. What is the ID and price of the most expensive phone that has no wifi, a touch screen and weighs more than 145 grams?**"
      ],
      "metadata": {
        "id": "4SwwjWN6RYdM"
      }
    },
    {
      "cell_type": "code",
      "source": [
        "filter2= (df['wifi']=='none') & (df['screen']=='Touch') & (df['mobile_wt']>145)\n",
        "only_true_rows2=df[filter2]\n",
        "max_price = only_true_rows2['price'].max()\n",
        "filter_most_expensive = only_true_rows2['price'] == max_price\n",
        "most_expensive =only_true_rows2[filter_most_expensive]\n",
        "print(most_expensive['price'])\n",
        "\n",
        "print('\\n',most_expensive['id'] )\n"
      ],
      "metadata": {
        "colab": {
          "base_uri": "https://localhost:8080/"
        },
        "id": "Fn44n-VCRcNW",
        "outputId": "94ad3ccd-9ffe-4890-e379-82b8346ac64b"
      },
      "execution_count": 24,
      "outputs": [
        {
          "output_type": "stream",
          "name": "stdout",
          "text": [
            "770    1533.85\n",
            "Name: price, dtype: float64\n",
            "\n",
            " 770    770\n",
            "Name: id, dtype: int64\n"
          ]
        }
      ]
    },
    {
      "cell_type": "markdown",
      "source": [
        "answer: id:770 , most_expensive price :  1533.85"
      ],
      "metadata": {
        "id": "bzVSGpExcFik"
      }
    },
    {
      "cell_type": "markdown",
      "source": [
        "**4. Create a pivot table that shows the percentage of phones with Bluetooth per generation, pivoted around the phone generation and split by “ram” quartiles. (i.e. the rows are the generation number and the columns are 4 quartiles of ram size).**"
      ],
      "metadata": {
        "id": "ZbRKbV8WcT2_"
      }
    },
    {
      "cell_type": "code",
      "source": [
        "def changeSourceValueToDestValue(data,col,source_value1,dest_value1,source_value2, dest_value2):\n",
        "    \"\"\"get two source values and the requested convert values(dest_value) and col name and change the values from the sorce value to the dest value\"\"\"\n",
        "    mapping={source_value1: dest_value1,source_value2:dest_value2}\n",
        "    data[col]=data[col].map(mapping);\n",
        "    return data;\n",
        "\n",
        "df= changeSourceValueToDestValue(df, 'bluetooth', 'Yes',1, 'No',0)\n",
        "ram_quartiles = pd.qcut(df['ram'],4)\n",
        "print(df.pivot_table('bluetooth', ['gen'], [ram_quartiles]))\n",
        "\n",
        "df= changeSourceValueToDestValue(df, 'bluetooth',1, 'Yes',0, 'No')"
      ],
      "metadata": {
        "id": "s1W_BDiufdJG",
        "outputId": "d4fa82a0-5ab9-48cd-cab0-37b0da72b3fa",
        "colab": {
          "base_uri": "https://localhost:8080/"
        }
      },
      "execution_count": 25,
      "outputs": [
        {
          "output_type": "stream",
          "name": "stdout",
          "text": [
            "ram  (255.999, 1207.5]  (1207.5, 2146.5]  (2146.5, 3064.5]  (3064.5, 3998.0]\n",
            "gen                                                                         \n",
            "2             0.496063          0.529915          0.512605          0.552632\n",
            "3             0.469565          0.500000          0.409091          0.443478\n",
            "4             0.476744          0.486792          0.502008          0.538745\n"
          ]
        }
      ]
    },
    {
      "cell_type": "markdown",
      "source": [
        "**5. Create a new Dataframe based on the original that has the following features: [id, battery_power, ram, talk_time, Bluetooth, cores, sim, memory, price], and contains a random sampling of half of the medium speed phones.**"
      ],
      "metadata": {
        "id": "ei4s9-eApKff"
      }
    },
    {
      "cell_type": "code",
      "source": [
        "filter_meduim_speed= df['speed']=='medium'\n",
        "only_medium_rows=df[filter_meduim_speed]\n",
        "half=only_medium_rows.sample(frac=0.5)\n",
        "\n",
        "new_df = half.filter(['id', 'battery_power','ram','talk_time','bluetooth','cores','sim','memory','price'],axis=1)\n",
        "print(new_df)"
      ],
      "metadata": {
        "colab": {
          "base_uri": "https://localhost:8080/"
        },
        "id": "_64qDhjopTGo",
        "outputId": "532764d3-2e3b-4559-a27f-9b144d51d99b"
      },
      "execution_count": 26,
      "outputs": [
        {
          "output_type": "stream",
          "name": "stdout",
          "text": [
            "        id  battery_power   ram  talk_time  ...  cores     sim     memory    price\n",
            "1076  1076            516   819         10  ...  penta    Dual  38.535156   684.05\n",
            "404    404           1552  2403          9  ...   hexa  Single  13.211914  1120.21\n",
            "28      28           1453  2373         10  ...   dual    Dual  51.240234   926.26\n",
            "225    225           1634  3031          6  ...   dual  Single  17.579102  1027.44\n",
            "578    578           1195   980         17  ...   quad    Dual  22.782227   777.38\n",
            "...    ...            ...   ...        ...  ...    ...     ...        ...      ...\n",
            "608    608           1975  2998         13  ...   octa  Single  15.560547  1339.15\n",
            "1155  1155           1414  2290         12  ...   quad    Dual  48.299805   713.33\n",
            "928    928           1349  2462         17  ...  hepta    Dual  54.354492   631.05\n",
            "300    300           1937  3321         14  ...    NaN  Single  57.363281  1501.74\n",
            "313    313            645   714         13  ...   octa  Single  40.167969   661.58\n",
            "\n",
            "[419 rows x 9 columns]\n"
          ]
        }
      ]
    },
    {
      "cell_type": "markdown",
      "source": [
        "**6. Using this new dataset, what is the maximum total talk time you can achieve if you use 3 phones, and which 3 phones will you use?**"
      ],
      "metadata": {
        "id": "nFhzIedYugir"
      }
    },
    {
      "cell_type": "code",
      "source": [
        "sorted_phones = new_df.sort_values('talk_time',ascending=False)\n",
        "print(sorted_phones)\n",
        "print(sorted_phones['id'][0:3])\n",
        "print('sum: ',sorted_phones['talk_time'][0:3].sum())"
      ],
      "metadata": {
        "colab": {
          "base_uri": "https://localhost:8080/"
        },
        "id": "iiFyrSwEukEg",
        "outputId": "4740cd3e-cc87-435d-fea7-545bcd465330"
      },
      "execution_count": 27,
      "outputs": [
        {
          "output_type": "stream",
          "name": "stdout",
          "text": [
            "        id  battery_power   ram  talk_time  ...   cores     sim     memory    price\n",
            "1181  1181           1271   892         20  ...     NaN    Dual   2.174805   655.30\n",
            "1307  1307            831  1704         20  ...   penta    Dual  25.683594   785.60\n",
            "1743  1743           1673  3094         20  ...   penta  Single  41.819336   805.59\n",
            "1164  1164            860  2832         20  ...  triple    Dual  39.541992   925.36\n",
            "1527  1527           1837  2294         20  ...    octa    Dual  12.182617  1211.55\n",
            "...    ...            ...   ...        ...  ...     ...     ...        ...      ...\n",
            "1562  1562           1325  2328          2  ...     NaN  Single  49.268555   953.45\n",
            "656    656           1583  1704          2  ...   hepta    Dual  13.988281   806.67\n",
            "925    925           1048  2146          2  ...     NaN  Single  29.227539   865.13\n",
            "1365  1365           1318  1780          2  ...    dual    Dual  11.231445   927.81\n",
            "1117  1117           1970  2372          2  ...    octa    Dual  57.366211  1322.01\n",
            "\n",
            "[419 rows x 9 columns]\n",
            "1181    1181\n",
            "1307    1307\n",
            "1743    1743\n",
            "Name: id, dtype: int64\n",
            "sum:  60\n"
          ]
        }
      ]
    },
    {
      "cell_type": "markdown",
      "source": [
        "answer: the three phones are the phones with id: 1621, 518, 1511 .\n",
        "\n",
        "total talk time is: 60\n"
      ],
      "metadata": {
        "id": "WYJHJtPEwswJ"
      }
    }
  ]
}